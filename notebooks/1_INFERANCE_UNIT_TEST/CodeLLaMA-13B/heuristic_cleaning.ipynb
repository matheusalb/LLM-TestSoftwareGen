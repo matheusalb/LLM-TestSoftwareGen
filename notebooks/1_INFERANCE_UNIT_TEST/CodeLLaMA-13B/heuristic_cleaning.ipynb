{
 "cells": [
  {
   "cell_type": "code",
   "execution_count": 2,
   "metadata": {},
   "outputs": [],
   "source": [
    "import pandas as pd\n",
    "\n",
    "df = pd.read_csv(\"generated_tests_codellama13b_nvidia_api_trated.csv\", sep=\",\", header=0)"
   ]
  },
  {
   "cell_type": "code",
   "execution_count": 3,
   "metadata": {},
   "outputs": [],
   "source": [
    "df[\"canonical_solution\"] = df[\"generated_solution_trated\"]"
   ]
  },
  {
   "cell_type": "code",
   "execution_count": 4,
   "metadata": {},
   "outputs": [
    {
     "data": {
      "text/plain": [
       "\"import unittest\\n\\nclass TestSeparateParenGroups(unittest.TestCase):\\n    def test_empty_string(self):\\n        self.assertEqual(separate_paren_groups(''), [])\\n\\n    def test_single_group(self):\\n        self.assertEqual(separate_paren_groups('()'), ['()'])\\n\\n    def test_multiple_groups(self):\\n        self.assertEqual(separate_paren_groups('(())'), ['(())'])\\n\\n    def test_nested_groups(self):\\n        self.assertEqual(separate_paren_groups('(()())'), ['(()())'])\\n\\n    def test_unbalanced_groups(self):\\n        self.assertEqual(separate_paren_groups('((())'), ['((())'])\\n\\n    def test_unbalanced_groups_with_spaces(self):\\n        self.assertEqual(separate_paren_groups('(( ))'), ['(( ))'])\\n\\n    def test_unbalanced_groups_with_spaces_and_newlines(self):\\n        self.assertEqual(separate_paren_groups('(( \\\\n ))'), ['(( \\\\n ))'])\\n\\n    def test_unbalanced_groups_with_spaces_and_tabs(self):\\n        self.assertEqual(separate_paren_groups('(( \\\\t ))'), ['(( \\\\t ))'])\\n\\n    def test_unbalanced_groups_with_spaces_and_mixed_whitespace(self):\\n        self.assertEqual(separate_paren_groups('(( \\\\n\\\\t ))'), ['(( \\\\n\\\\t ))'])\\n\\n    def test_unbalanced_groups_with_spaces_and_mixed_whitespace_and_newlines(self):\\n        self.assertEqual(separate_paren_groups('(( \\\\n\\\\t \\\\n ))'), ['(( \\\\n\\\\t \\\\n ))'])\\n\\n    def test_unbalanced_groups_with_spaces_and_mixed_whitespace_and_tabs(self):\\n        self.assertEqual(separate_paren_groups('(( \\\\n\\\\t \\\\t ))'), ['(( \\\\n\\\\t \\\\t ))'])\\n\\n    def test_unbalanced_groups_with_spaces_and_mixed_whitespace_and_newlines_and_tabs(self):\\n        self.assertEqual(separate_paren_groups('(( \\\\n\\\\t \\\\t \\\\n ))'), ['(( \\\\n\\\\t \\\\t \\\\n ))'])\\n\\nif __name__ == '__main__':\\n    unittest.main()\""
      ]
     },
     "execution_count": 4,
     "metadata": {},
     "output_type": "execute_result"
    }
   ],
   "source": [
    "df[\"canonical_solution\"].loc[1]"
   ]
  },
  {
   "cell_type": "code",
   "execution_count": 5,
   "metadata": {},
   "outputs": [],
   "source": [
    "for index, row in df.iterrows():\n",
    "    generated_solution = row[\"generated_solution_trated\"]\n",
    "    \n",
    "    generated_solution.replace(\"if __name__ == '__main__':\\n    unittest.main()\", \"\")"
   ]
  },
  {
   "cell_type": "code",
   "execution_count": 6,
   "metadata": {},
   "outputs": [
    {
     "data": {
      "text/plain": [
       "prompt                       object\n",
       "canonical_solution           object\n",
       "generated_solution           object\n",
       "generated_solution_trated    object\n",
       "dtype: object"
      ]
     },
     "execution_count": 6,
     "metadata": {},
     "output_type": "execute_result"
    }
   ],
   "source": [
    "df.dtypes"
   ]
  },
  {
   "cell_type": "code",
   "execution_count": 7,
   "metadata": {},
   "outputs": [],
   "source": [
    "df = df[[\"prompt\", \"canonical_solution\", \"generated_solution\"]]"
   ]
  },
  {
   "cell_type": "code",
   "execution_count": 10,
   "metadata": {},
   "outputs": [],
   "source": [
    "df.to_csv(\"generated_tests_codellama13b_nvidia_api_trated.csv\", index=False)"
   ]
  },
  {
   "cell_type": "code",
   "execution_count": null,
   "metadata": {},
   "outputs": [],
   "source": []
  }
 ],
 "metadata": {
  "kernelspec": {
   "display_name": "llm",
   "language": "python",
   "name": "python3"
  },
  "language_info": {
   "codemirror_mode": {
    "name": "ipython",
    "version": 3
   },
   "file_extension": ".py",
   "mimetype": "text/x-python",
   "name": "python",
   "nbconvert_exporter": "python",
   "pygments_lexer": "ipython3",
   "version": "3.11.3"
  }
 },
 "nbformat": 4,
 "nbformat_minor": 2
}
